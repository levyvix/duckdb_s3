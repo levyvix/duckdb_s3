{
 "cells": [
  {
   "cell_type": "code",
   "execution_count": 32,
   "metadata": {},
   "outputs": [],
   "source": [
    "import datetime as dt\n",
    "from datetime import datetime, timedelta"
   ]
  },
  {
   "cell_type": "code",
   "execution_count": null,
   "metadata": {},
   "outputs": [],
   "source": [
    "import duckdb\n",
    "\n",
    "con = duckdb.connect()\n",
    "\n",
    "\n",
    "con.execute(\"install httpfs\")\n",
    "con.execute(\"load httpfs\")"
   ]
  },
  {
   "cell_type": "code",
   "execution_count": 4,
   "metadata": {},
   "outputs": [],
   "source": [
    "con.sql(\n",
    "    \"create table gharchive as from read_json_auto('http://data.gharchive.org/2024-09-01-10.json.gz', ignore_errors=True)\"\n",
    ")"
   ]
  },
  {
   "cell_type": "code",
   "execution_count": null,
   "metadata": {},
   "outputs": [],
   "source": [
    "con.sql(\"select * from gharchive limit 10\").df()"
   ]
  },
  {
   "cell_type": "code",
   "execution_count": null,
   "metadata": {},
   "outputs": [],
   "source": [
    "con.sql(\"select actor.* from gharchive limit 10\").df()"
   ]
  },
  {
   "cell_type": "code",
   "execution_count": 10,
   "metadata": {},
   "outputs": [],
   "source": [
    "import requests\n",
    "\n",
    "gharchive_url = \"http://data.gharchive.org/2024-09-01-10.json.gz\"\n",
    "\n",
    "response = requests.get(gharchive_url)\n",
    "\n",
    "response_content = response.content"
   ]
  },
  {
   "cell_type": "code",
   "execution_count": null,
   "metadata": {},
   "outputs": [],
   "source": [
    "response_content[:10]"
   ]
  },
  {
   "cell_type": "code",
   "execution_count": 30,
   "metadata": {},
   "outputs": [],
   "source": [
    "import boto3\n",
    "import dotenv\n",
    "import io\n",
    "\n",
    "\n",
    "env = dotenv.dotenv_values()\n",
    "\n",
    "s3_client = boto3.client(\n",
    "    \"s3\",\n",
    "    aws_access_key_id=env[\"AWS_ACCESS_KEY\"],\n",
    "    aws_secret_access_key=env[\"AWS_SECRET_KEY\"],\n",
    "    region_name=\"us-east-2\",\n",
    ")\n"
   ]
  },
  {
   "cell_type": "code",
   "execution_count": 31,
   "metadata": {},
   "outputs": [],
   "source": [
    "target_s3_key = \"gharchive/events/2024-09-01-10.json.gz\"\n",
    "s3_client.upload_fileobj(\n",
    "    io.BytesIO(response_content), \"dataeng-landing-zone-957\", target_s3_key\n",
    ")"
   ]
  },
  {
   "cell_type": "code",
   "execution_count": 38,
   "metadata": {},
   "outputs": [],
   "source": [
    "now = datetime.now(dt.timezone.utc)\n",
    "\n",
    "# 2024-10-20 00:00:00+00:00\n",
    "process_date = now.replace(minute=0, second=0, microsecond=0) - timedelta(hours=2)\n"
   ]
  },
  {
   "cell_type": "code",
   "execution_count": 39,
   "metadata": {},
   "outputs": [],
   "source": [
    "process_date_str = process_date.strftime(\"%Y-%m-%d-%H\")"
   ]
  },
  {
   "cell_type": "code",
   "execution_count": 40,
   "metadata": {},
   "outputs": [],
   "source": [
    "url = f\"https://data.gharchive.org/{process_date_str}.json.gz\"\n",
    "response = requests.get(url)\n",
    "response.raise_for_status()"
   ]
  },
  {
   "cell_type": "code",
   "execution_count": null,
   "metadata": {},
   "outputs": [],
   "source": [
    "response.content[:10]"
   ]
  },
  {
   "cell_type": "code",
   "execution_count": null,
   "metadata": {},
   "outputs": [],
   "source": [
    "con.execute(\"install httpfs\")\n",
    "\n",
    "con.execute(\"load httpfs\")"
   ]
  },
  {
   "cell_type": "code",
   "execution_count": null,
   "metadata": {},
   "outputs": [],
   "source": [
    "import configparser\n",
    "\n",
    "\n",
    "config = configparser.ConfigParser()\n",
    "\n",
    "config.read(\"C:\\\\Users\\\\levyv\\\\Desktop\\\\projs\\\\duckdb_s3\\\\config.ini\")"
   ]
  },
  {
   "cell_type": "code",
   "execution_count": null,
   "metadata": {},
   "outputs": [],
   "source": [
    "con.execute(f\"SET s3_access_key_id='{config['aws']['s3_access_key_id']}'\")\n",
    "con.execute(f\"SET s3_secret_access_key='{config['aws']['s3_secret_access_key']}'\")"
   ]
  },
  {
   "cell_type": "code",
   "execution_count": null,
   "metadata": {},
   "outputs": [],
   "source": [
    "process_data = \"2024-10-19\"\n",
    "\n",
    "con.sql(\n",
    "    f\"select * from 's3://dataeng-curated-zone-957/gharchive/events/2024-10-19/*.parquet'\"\n",
    ").to_table(\"gold\")"
   ]
  },
  {
   "cell_type": "code",
   "execution_count": 80,
   "metadata": {},
   "outputs": [],
   "source": [
    "gold_table = con.table(\"gold\")"
   ]
  },
  {
   "cell_type": "code",
   "execution_count": null,
   "metadata": {},
   "outputs": [],
   "source": [
    "gold_table.aggregate(\"count(*)\").show()"
   ]
  },
  {
   "cell_type": "code",
   "execution_count": null,
   "metadata": {},
   "outputs": [],
   "source": [
    "gold_table.aggregate(\"event_type, repo_name, sum(event_count) as event_count\").filter(\n",
    "    \"event_type = 'WatchEvent'\"\n",
    ").order(\"event_count desc\").limit(10).show()"
   ]
  }
 ],
 "metadata": {
  "kernelspec": {
   "display_name": ".venv",
   "language": "python",
   "name": "python3"
  },
  "language_info": {
   "codemirror_mode": {
    "name": "ipython",
    "version": 3
   },
   "file_extension": ".py",
   "mimetype": "text/x-python",
   "name": "python",
   "nbconvert_exporter": "python",
   "pygments_lexer": "ipython3",
   "version": "3.12.6"
  }
 },
 "nbformat": 4,
 "nbformat_minor": 2
}
